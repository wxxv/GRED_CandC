{
 "cells": [
  {
   "cell_type": "code",
   "execution_count": 1,
   "metadata": {},
   "outputs": [
    {
     "name": "stdout",
     "output_type": "stream",
     "text": [
      "------------------------------------------dev_nlq---------------------------------------------------------\n",
      "predict_debugged_db_ann:\n",
      "data len:  1182\n",
      "Acc.: 59.98%\n",
      "acc_tree: 0.5998, acc_vis: 0.9763, acc_axis: 0.8841, acc_data: 0.6193, acc_com: 0.8266\n",
      "final_dvq:\n",
      "data len:  1182\n",
      "Acc.: 67.01%\n",
      "acc_tree: 0.6701, acc_vis: 0.9772, acc_axis: 0.8790, acc_data: 0.6870, acc_com: 0.8477\n",
      "------------------------------------------dev_schema---------------------------------------------------------\n",
      "predict_debugged_db_ann:\n",
      "data len:  1182\n",
      "Acc.: 61.93%\n",
      "acc_tree: 0.6193, acc_vis: 0.9772, acc_axis: 0.8503, acc_data: 0.6548, acc_com: 0.8274\n",
      "final_dvq:\n",
      "data len:  1182\n",
      "Acc.: 69.46%\n",
      "acc_tree: 0.6946, acc_vis: 0.9772, acc_axis: 0.8621, acc_data: 0.7124, acc_com: 0.8505\n",
      "------------------------------------------dev_nlq_schema---------------------------------------------------------\n",
      "predict_debugged_db_ann:\n",
      "data len:  1185\n",
      "Acc.: 54.85%\n",
      "acc_tree: 0.5485, acc_vis: 0.9814, acc_axis: 0.8152, acc_data: 0.5848, acc_com: 0.7938\n",
      "final_dvq:\n",
      "data len:  1185\n",
      "Acc.: 61.77%\n",
      "acc_tree: 0.6177, acc_vis: 0.9823, acc_axis: 0.8203, acc_data: 0.6515, acc_com: 0.8180\n"
     ]
    }
   ],
   "source": [
    "import json\n",
    "import pandas as pd\n",
    "import src.trainer.metrics as metrics\n",
    "\n",
    "metrics=metrics.Metrics()\n",
    "for mode in ['dev_nlq','dev_schema' ,'dev_nlq_schema']:\n",
    "# for mode in ['dev_schema']:\n",
    "    # mode = \"dev_schema\"\n",
    "    # results_path = f\"./data/{mode}/{mode}_result_debugged_by_ref_dvqs.json\"\n",
    "    # results_path = f\"./data/{mode}/{mode}_result_debugged_by_db_ann_no_ref.json\"\n",
    "    results_path = f\"./nvBench-Rob/{mode}/result_multi-turn/{mode}_result_multi-turn_gpt4o_random_question_amb.json\"\n",
    "    # results_path = f\"./data/{mode}/{mode}_result_nlq_rag.json\"\n",
    "\n",
    "\n",
    "    cmp = pd.read_json(results_path)\n",
    "    final_dvq = cmp['final_dvq'].to_list()\n",
    "    predict_debugged_db_ann = cmp['predict_debugged_db_ann'].to_list()\n",
    "    tgts = cmp['target'].to_list()\n",
    "\n",
    "    print(f\"------------------------------------------{mode}---------------------------------------------------------\")\n",
    "    acc_tree, acc_vis, acc_axis, acc_data = metrics.accuracy(predict_debugged_db_ann, tgts, final_dvq, sql_type=\"vql\")\n",
    "    acc_com = (acc_vis + acc_axis + acc_data) / 3\n",
    "    print(\"predict_debugged_db_ann:\")\n",
    "    print(\"data len: \", len(predict_debugged_db_ann))\n",
    "    print(\"Acc.: {:.2f}%\".format(acc_tree*100))\n",
    "    print('acc_tree: {:.4f}, acc_vis: {:.4f}, acc_axis: {:.4f}, acc_data: {:.4f}, acc_com: {:.4f}'.format(acc_tree, acc_vis, acc_axis, acc_data, acc_com))\n",
    "\n",
    "    # print(\"*\"*100)\n",
    "\n",
    "    acc_tree, acc_vis, acc_axis, acc_data = metrics.accuracy(final_dvq, tgts, final_dvq, sql_type=\"vql\")\n",
    "    acc_com = (acc_vis + acc_axis + acc_data) / 3\n",
    "    print(\"final_dvq:\")\n",
    "    print(\"data len: \", len(final_dvq))\n",
    "    print(\"Acc.: {:.2f}%\".format(acc_tree*100))\n",
    "    print('acc_tree: {:.4f}, acc_vis: {:.4f}, acc_axis: {:.4f}, acc_data: {:.4f}, acc_com: {:.4f}'.format(acc_tree, acc_vis, acc_axis, acc_data, acc_com))\n",
    "\n",
    "\n",
    "    "
   ]
  }
 ],
 "metadata": {
  "kernelspec": {
   "display_name": "test",
   "language": "python",
   "name": "python3"
  },
  "language_info": {
   "codemirror_mode": {
    "name": "ipython",
    "version": 3
   },
   "file_extension": ".py",
   "mimetype": "text/x-python",
   "name": "python",
   "nbconvert_exporter": "python",
   "pygments_lexer": "ipython3",
   "version": "3.12.9"
  }
 },
 "nbformat": 4,
 "nbformat_minor": 2
}
